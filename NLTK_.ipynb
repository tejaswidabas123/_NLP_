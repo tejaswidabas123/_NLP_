{
  "cells": [
    {
      "cell_type": "markdown",
      "metadata": {
        "id": "yKxktwMaE3yy"
      },
      "source": [
        "Natural Language Toolkit (NLTK)\n"
      ]
    },
    {
      "cell_type": "markdown",
      "metadata": {
        "id": "ZgL-gslRE3yz"
      },
      "source": [
        "Overview:  \n",
        "-NLTK Install    \n",
        "-NLTK Data Sets    \n",
        "-Tokenization  \n",
        "-NLTK examples      "
      ]
    },
    {
      "cell_type": "markdown",
      "metadata": {
        "id": "TwY_VHTlE3yz"
      },
      "source": [
        "**Natural Language Toolkit (NLTK)** is a popular Python Natural Language Python library.   \n",
        "**Reference book on NLTK and discussion on NLP:**  \n",
        "http://www.nltk.org/book/  \n",
        "http://www.nltk.org/book/ch01.html"
      ]
    },
    {
      "cell_type": "markdown",
      "metadata": {
        "id": "JrxsPWmGE3yz"
      },
      "source": [
        "http://www.nltk.org/install.html\n",
        "Install nltk from the command prompt:    \n",
        "pip install --user -U nltk  \n",
        "pip install --upgrade nltk  # to check for upgrades\n",
        "Note: You will need numpy installed too.  This should already be installed with your Anaconda install."
      ]
    },
    {
      "cell_type": "code",
      "execution_count": 1,
      "metadata": {
        "colab": {
          "base_uri": "https://localhost:8080/"
        },
        "id": "TTKE8YI7E3yz",
        "outputId": "710ee33d-874c-46f0-f17f-81696f670843"
      },
      "outputs": [
        {
          "output_type": "stream",
          "name": "stdout",
          "text": [
            "Requirement already satisfied: nltk in /usr/local/lib/python3.10/dist-packages (3.8.1)\n",
            "Requirement already satisfied: click in /usr/local/lib/python3.10/dist-packages (from nltk) (8.1.7)\n",
            "Requirement already satisfied: joblib in /usr/local/lib/python3.10/dist-packages (from nltk) (1.3.2)\n",
            "Requirement already satisfied: regex>=2021.8.3 in /usr/local/lib/python3.10/dist-packages (from nltk) (2023.6.3)\n",
            "Requirement already satisfied: tqdm in /usr/local/lib/python3.10/dist-packages (from nltk) (4.66.1)\n"
          ]
        }
      ],
      "source": [
        "!pip install --upgrade nltk"
      ]
    },
    {
      "cell_type": "code",
      "execution_count": 2,
      "metadata": {
        "scrolled": true,
        "colab": {
          "base_uri": "https://localhost:8080/"
        },
        "id": "3sz6rBpiE3yz",
        "outputId": "977d8981-bcf6-4de4-ee96-f9fe99f03e62"
      },
      "outputs": [
        {
          "output_type": "stream",
          "name": "stdout",
          "text": [
            "Requirement already satisfied: nltk in /usr/local/lib/python3.10/dist-packages (3.8.1)\n",
            "Requirement already satisfied: click in /usr/local/lib/python3.10/dist-packages (from nltk) (8.1.7)\n",
            "Requirement already satisfied: joblib in /usr/local/lib/python3.10/dist-packages (from nltk) (1.3.2)\n",
            "Requirement already satisfied: regex>=2021.8.3 in /usr/local/lib/python3.10/dist-packages (from nltk) (2023.6.3)\n",
            "Requirement already satisfied: tqdm in /usr/local/lib/python3.10/dist-packages (from nltk) (4.66.1)\n"
          ]
        }
      ],
      "source": [
        "!pip install --user -U nltk"
      ]
    },
    {
      "cell_type": "code",
      "execution_count": 3,
      "metadata": {
        "colab": {
          "base_uri": "https://localhost:8080/"
        },
        "id": "MliA4tCBE3y0",
        "outputId": "0c558e9f-4dd4-46b4-ae5f-3a9c91601396"
      },
      "outputs": [
        {
          "output_type": "stream",
          "name": "stdout",
          "text": [
            "3.8.1\n"
          ]
        }
      ],
      "source": [
        "# Check if NLTK installed correctly\n",
        "import nltk\n",
        "print(nltk.__version__)"
      ]
    },
    {
      "cell_type": "code",
      "execution_count": 4,
      "metadata": {
        "scrolled": true,
        "colab": {
          "base_uri": "https://localhost:8080/"
        },
        "id": "ZEd2vrCgE3y0",
        "outputId": "ea93ccfe-f8a6-43bf-d589-dec66df0e3f3"
      },
      "outputs": [
        {
          "output_type": "stream",
          "name": "stderr",
          "text": [
            "[nltk_data] Downloading collection 'all'\n",
            "[nltk_data]    | \n",
            "[nltk_data]    | Downloading package abc to /root/nltk_data...\n",
            "[nltk_data]    |   Unzipping corpora/abc.zip.\n",
            "[nltk_data]    | Downloading package alpino to /root/nltk_data...\n",
            "[nltk_data]    |   Unzipping corpora/alpino.zip.\n",
            "[nltk_data]    | Downloading package averaged_perceptron_tagger to\n",
            "[nltk_data]    |     /root/nltk_data...\n",
            "[nltk_data]    |   Unzipping taggers/averaged_perceptron_tagger.zip.\n",
            "[nltk_data]    | Downloading package averaged_perceptron_tagger_ru to\n",
            "[nltk_data]    |     /root/nltk_data...\n",
            "[nltk_data]    |   Unzipping\n",
            "[nltk_data]    |       taggers/averaged_perceptron_tagger_ru.zip.\n",
            "[nltk_data]    | Downloading package basque_grammars to\n",
            "[nltk_data]    |     /root/nltk_data...\n",
            "[nltk_data]    |   Unzipping grammars/basque_grammars.zip.\n",
            "[nltk_data]    | Downloading package bcp47 to /root/nltk_data...\n",
            "[nltk_data]    | Downloading package biocreative_ppi to\n",
            "[nltk_data]    |     /root/nltk_data...\n",
            "[nltk_data]    |   Unzipping corpora/biocreative_ppi.zip.\n",
            "[nltk_data]    | Downloading package bllip_wsj_no_aux to\n",
            "[nltk_data]    |     /root/nltk_data...\n",
            "[nltk_data]    |   Unzipping models/bllip_wsj_no_aux.zip.\n",
            "[nltk_data]    | Downloading package book_grammars to\n",
            "[nltk_data]    |     /root/nltk_data...\n",
            "[nltk_data]    |   Unzipping grammars/book_grammars.zip.\n",
            "[nltk_data]    | Downloading package brown to /root/nltk_data...\n",
            "[nltk_data]    |   Unzipping corpora/brown.zip.\n",
            "[nltk_data]    | Downloading package brown_tei to /root/nltk_data...\n",
            "[nltk_data]    |   Unzipping corpora/brown_tei.zip.\n",
            "[nltk_data]    | Downloading package cess_cat to /root/nltk_data...\n",
            "[nltk_data]    |   Unzipping corpora/cess_cat.zip.\n",
            "[nltk_data]    | Downloading package cess_esp to /root/nltk_data...\n",
            "[nltk_data]    |   Unzipping corpora/cess_esp.zip.\n",
            "[nltk_data]    | Downloading package chat80 to /root/nltk_data...\n",
            "[nltk_data]    |   Unzipping corpora/chat80.zip.\n",
            "[nltk_data]    | Downloading package city_database to\n",
            "[nltk_data]    |     /root/nltk_data...\n",
            "[nltk_data]    |   Unzipping corpora/city_database.zip.\n",
            "[nltk_data]    | Downloading package cmudict to /root/nltk_data...\n",
            "[nltk_data]    |   Unzipping corpora/cmudict.zip.\n",
            "[nltk_data]    | Downloading package comparative_sentences to\n",
            "[nltk_data]    |     /root/nltk_data...\n",
            "[nltk_data]    |   Unzipping corpora/comparative_sentences.zip.\n",
            "[nltk_data]    | Downloading package comtrans to /root/nltk_data...\n",
            "[nltk_data]    | Downloading package conll2000 to /root/nltk_data...\n",
            "[nltk_data]    |   Unzipping corpora/conll2000.zip.\n",
            "[nltk_data]    | Downloading package conll2002 to /root/nltk_data...\n",
            "[nltk_data]    |   Unzipping corpora/conll2002.zip.\n",
            "[nltk_data]    | Downloading package conll2007 to /root/nltk_data...\n",
            "[nltk_data]    | Downloading package crubadan to /root/nltk_data...\n",
            "[nltk_data]    |   Unzipping corpora/crubadan.zip.\n",
            "[nltk_data]    | Downloading package dependency_treebank to\n",
            "[nltk_data]    |     /root/nltk_data...\n",
            "[nltk_data]    |   Unzipping corpora/dependency_treebank.zip.\n",
            "[nltk_data]    | Downloading package dolch to /root/nltk_data...\n",
            "[nltk_data]    |   Unzipping corpora/dolch.zip.\n",
            "[nltk_data]    | Downloading package europarl_raw to\n",
            "[nltk_data]    |     /root/nltk_data...\n",
            "[nltk_data]    |   Unzipping corpora/europarl_raw.zip.\n",
            "[nltk_data]    | Downloading package extended_omw to\n",
            "[nltk_data]    |     /root/nltk_data...\n",
            "[nltk_data]    | Downloading package floresta to /root/nltk_data...\n",
            "[nltk_data]    |   Unzipping corpora/floresta.zip.\n",
            "[nltk_data]    | Downloading package framenet_v15 to\n",
            "[nltk_data]    |     /root/nltk_data...\n",
            "[nltk_data]    |   Unzipping corpora/framenet_v15.zip.\n",
            "[nltk_data]    | Downloading package framenet_v17 to\n",
            "[nltk_data]    |     /root/nltk_data...\n",
            "[nltk_data]    |   Unzipping corpora/framenet_v17.zip.\n",
            "[nltk_data]    | Downloading package gazetteers to /root/nltk_data...\n",
            "[nltk_data]    |   Unzipping corpora/gazetteers.zip.\n",
            "[nltk_data]    | Downloading package genesis to /root/nltk_data...\n",
            "[nltk_data]    |   Unzipping corpora/genesis.zip.\n",
            "[nltk_data]    | Downloading package gutenberg to /root/nltk_data...\n",
            "[nltk_data]    |   Unzipping corpora/gutenberg.zip.\n",
            "[nltk_data]    | Downloading package ieer to /root/nltk_data...\n",
            "[nltk_data]    |   Unzipping corpora/ieer.zip.\n",
            "[nltk_data]    | Downloading package inaugural to /root/nltk_data...\n",
            "[nltk_data]    |   Unzipping corpora/inaugural.zip.\n",
            "[nltk_data]    | Downloading package indian to /root/nltk_data...\n",
            "[nltk_data]    |   Unzipping corpora/indian.zip.\n",
            "[nltk_data]    | Downloading package jeita to /root/nltk_data...\n",
            "[nltk_data]    | Downloading package kimmo to /root/nltk_data...\n",
            "[nltk_data]    |   Unzipping corpora/kimmo.zip.\n",
            "[nltk_data]    | Downloading package knbc to /root/nltk_data...\n",
            "[nltk_data]    | Downloading package large_grammars to\n",
            "[nltk_data]    |     /root/nltk_data...\n",
            "[nltk_data]    |   Unzipping grammars/large_grammars.zip.\n",
            "[nltk_data]    | Downloading package lin_thesaurus to\n",
            "[nltk_data]    |     /root/nltk_data...\n",
            "[nltk_data]    |   Unzipping corpora/lin_thesaurus.zip.\n",
            "[nltk_data]    | Downloading package mac_morpho to /root/nltk_data...\n",
            "[nltk_data]    |   Unzipping corpora/mac_morpho.zip.\n",
            "[nltk_data]    | Downloading package machado to /root/nltk_data...\n",
            "[nltk_data]    | Downloading package masc_tagged to /root/nltk_data...\n",
            "[nltk_data]    | Downloading package maxent_ne_chunker to\n",
            "[nltk_data]    |     /root/nltk_data...\n",
            "[nltk_data]    |   Unzipping chunkers/maxent_ne_chunker.zip.\n",
            "[nltk_data]    | Downloading package maxent_treebank_pos_tagger to\n",
            "[nltk_data]    |     /root/nltk_data...\n",
            "[nltk_data]    |   Unzipping taggers/maxent_treebank_pos_tagger.zip.\n",
            "[nltk_data]    | Downloading package moses_sample to\n",
            "[nltk_data]    |     /root/nltk_data...\n",
            "[nltk_data]    |   Unzipping models/moses_sample.zip.\n",
            "[nltk_data]    | Downloading package movie_reviews to\n",
            "[nltk_data]    |     /root/nltk_data...\n",
            "[nltk_data]    |   Unzipping corpora/movie_reviews.zip.\n",
            "[nltk_data]    | Downloading package mte_teip5 to /root/nltk_data...\n",
            "[nltk_data]    |   Unzipping corpora/mte_teip5.zip.\n",
            "[nltk_data]    | Downloading package mwa_ppdb to /root/nltk_data...\n",
            "[nltk_data]    |   Unzipping misc/mwa_ppdb.zip.\n",
            "[nltk_data]    | Downloading package names to /root/nltk_data...\n",
            "[nltk_data]    |   Unzipping corpora/names.zip.\n",
            "[nltk_data]    | Downloading package nombank.1.0 to /root/nltk_data...\n",
            "[nltk_data]    | Downloading package nonbreaking_prefixes to\n",
            "[nltk_data]    |     /root/nltk_data...\n",
            "[nltk_data]    |   Unzipping corpora/nonbreaking_prefixes.zip.\n",
            "[nltk_data]    | Downloading package nps_chat to /root/nltk_data...\n",
            "[nltk_data]    |   Unzipping corpora/nps_chat.zip.\n",
            "[nltk_data]    | Downloading package omw to /root/nltk_data...\n",
            "[nltk_data]    | Downloading package omw-1.4 to /root/nltk_data...\n",
            "[nltk_data]    | Downloading package opinion_lexicon to\n",
            "[nltk_data]    |     /root/nltk_data...\n",
            "[nltk_data]    |   Unzipping corpora/opinion_lexicon.zip.\n",
            "[nltk_data]    | Downloading package panlex_swadesh to\n",
            "[nltk_data]    |     /root/nltk_data...\n",
            "[nltk_data]    | Downloading package paradigms to /root/nltk_data...\n",
            "[nltk_data]    |   Unzipping corpora/paradigms.zip.\n",
            "[nltk_data]    | Downloading package pe08 to /root/nltk_data...\n",
            "[nltk_data]    |   Unzipping corpora/pe08.zip.\n",
            "[nltk_data]    | Downloading package perluniprops to\n",
            "[nltk_data]    |     /root/nltk_data...\n",
            "[nltk_data]    |   Unzipping misc/perluniprops.zip.\n",
            "[nltk_data]    | Downloading package pil to /root/nltk_data...\n",
            "[nltk_data]    |   Unzipping corpora/pil.zip.\n",
            "[nltk_data]    | Downloading package pl196x to /root/nltk_data...\n",
            "[nltk_data]    |   Unzipping corpora/pl196x.zip.\n",
            "[nltk_data]    | Downloading package porter_test to /root/nltk_data...\n",
            "[nltk_data]    |   Unzipping stemmers/porter_test.zip.\n",
            "[nltk_data]    | Downloading package ppattach to /root/nltk_data...\n",
            "[nltk_data]    |   Unzipping corpora/ppattach.zip.\n",
            "[nltk_data]    | Downloading package problem_reports to\n",
            "[nltk_data]    |     /root/nltk_data...\n",
            "[nltk_data]    |   Unzipping corpora/problem_reports.zip.\n",
            "[nltk_data]    | Downloading package product_reviews_1 to\n",
            "[nltk_data]    |     /root/nltk_data...\n",
            "[nltk_data]    |   Unzipping corpora/product_reviews_1.zip.\n",
            "[nltk_data]    | Downloading package product_reviews_2 to\n",
            "[nltk_data]    |     /root/nltk_data...\n",
            "[nltk_data]    |   Unzipping corpora/product_reviews_2.zip.\n",
            "[nltk_data]    | Downloading package propbank to /root/nltk_data...\n",
            "[nltk_data]    | Downloading package pros_cons to /root/nltk_data...\n",
            "[nltk_data]    |   Unzipping corpora/pros_cons.zip.\n",
            "[nltk_data]    | Downloading package ptb to /root/nltk_data...\n",
            "[nltk_data]    |   Unzipping corpora/ptb.zip.\n",
            "[nltk_data]    | Downloading package punkt to /root/nltk_data...\n",
            "[nltk_data]    |   Unzipping tokenizers/punkt.zip.\n",
            "[nltk_data]    | Downloading package qc to /root/nltk_data...\n",
            "[nltk_data]    |   Unzipping corpora/qc.zip.\n",
            "[nltk_data]    | Downloading package reuters to /root/nltk_data...\n",
            "[nltk_data]    | Downloading package rslp to /root/nltk_data...\n",
            "[nltk_data]    |   Unzipping stemmers/rslp.zip.\n",
            "[nltk_data]    | Downloading package rte to /root/nltk_data...\n",
            "[nltk_data]    |   Unzipping corpora/rte.zip.\n",
            "[nltk_data]    | Downloading package sample_grammars to\n",
            "[nltk_data]    |     /root/nltk_data...\n",
            "[nltk_data]    |   Unzipping grammars/sample_grammars.zip.\n",
            "[nltk_data]    | Downloading package semcor to /root/nltk_data...\n",
            "[nltk_data]    | Downloading package senseval to /root/nltk_data...\n",
            "[nltk_data]    |   Unzipping corpora/senseval.zip.\n",
            "[nltk_data]    | Downloading package sentence_polarity to\n",
            "[nltk_data]    |     /root/nltk_data...\n",
            "[nltk_data]    |   Unzipping corpora/sentence_polarity.zip.\n",
            "[nltk_data]    | Downloading package sentiwordnet to\n",
            "[nltk_data]    |     /root/nltk_data...\n",
            "[nltk_data]    |   Unzipping corpora/sentiwordnet.zip.\n",
            "[nltk_data]    | Downloading package shakespeare to /root/nltk_data...\n",
            "[nltk_data]    |   Unzipping corpora/shakespeare.zip.\n",
            "[nltk_data]    | Downloading package sinica_treebank to\n",
            "[nltk_data]    |     /root/nltk_data...\n",
            "[nltk_data]    |   Unzipping corpora/sinica_treebank.zip.\n",
            "[nltk_data]    | Downloading package smultron to /root/nltk_data...\n",
            "[nltk_data]    |   Unzipping corpora/smultron.zip.\n",
            "[nltk_data]    | Downloading package snowball_data to\n",
            "[nltk_data]    |     /root/nltk_data...\n",
            "[nltk_data]    | Downloading package spanish_grammars to\n",
            "[nltk_data]    |     /root/nltk_data...\n",
            "[nltk_data]    |   Unzipping grammars/spanish_grammars.zip.\n",
            "[nltk_data]    | Downloading package state_union to /root/nltk_data...\n",
            "[nltk_data]    |   Unzipping corpora/state_union.zip.\n",
            "[nltk_data]    | Downloading package stopwords to /root/nltk_data...\n",
            "[nltk_data]    |   Unzipping corpora/stopwords.zip.\n",
            "[nltk_data]    | Downloading package subjectivity to\n",
            "[nltk_data]    |     /root/nltk_data...\n",
            "[nltk_data]    |   Unzipping corpora/subjectivity.zip.\n",
            "[nltk_data]    | Downloading package swadesh to /root/nltk_data...\n",
            "[nltk_data]    |   Unzipping corpora/swadesh.zip.\n",
            "[nltk_data]    | Downloading package switchboard to /root/nltk_data...\n",
            "[nltk_data]    |   Unzipping corpora/switchboard.zip.\n",
            "[nltk_data]    | Downloading package tagsets to /root/nltk_data...\n",
            "[nltk_data]    |   Unzipping help/tagsets.zip.\n",
            "[nltk_data]    | Downloading package timit to /root/nltk_data...\n",
            "[nltk_data]    |   Unzipping corpora/timit.zip.\n",
            "[nltk_data]    | Downloading package toolbox to /root/nltk_data...\n",
            "[nltk_data]    |   Unzipping corpora/toolbox.zip.\n",
            "[nltk_data]    | Downloading package treebank to /root/nltk_data...\n",
            "[nltk_data]    |   Unzipping corpora/treebank.zip.\n",
            "[nltk_data]    | Downloading package twitter_samples to\n",
            "[nltk_data]    |     /root/nltk_data...\n",
            "[nltk_data]    |   Unzipping corpora/twitter_samples.zip.\n",
            "[nltk_data]    | Downloading package udhr to /root/nltk_data...\n",
            "[nltk_data]    |   Unzipping corpora/udhr.zip.\n",
            "[nltk_data]    | Downloading package udhr2 to /root/nltk_data...\n",
            "[nltk_data]    |   Unzipping corpora/udhr2.zip.\n",
            "[nltk_data]    | Downloading package unicode_samples to\n",
            "[nltk_data]    |     /root/nltk_data...\n",
            "[nltk_data]    |   Unzipping corpora/unicode_samples.zip.\n",
            "[nltk_data]    | Downloading package universal_tagset to\n",
            "[nltk_data]    |     /root/nltk_data...\n",
            "[nltk_data]    |   Unzipping taggers/universal_tagset.zip.\n",
            "[nltk_data]    | Downloading package universal_treebanks_v20 to\n",
            "[nltk_data]    |     /root/nltk_data...\n",
            "[nltk_data]    | Downloading package vader_lexicon to\n",
            "[nltk_data]    |     /root/nltk_data...\n",
            "[nltk_data]    | Downloading package verbnet to /root/nltk_data...\n",
            "[nltk_data]    |   Unzipping corpora/verbnet.zip.\n",
            "[nltk_data]    | Downloading package verbnet3 to /root/nltk_data...\n",
            "[nltk_data]    |   Unzipping corpora/verbnet3.zip.\n",
            "[nltk_data]    | Downloading package webtext to /root/nltk_data...\n",
            "[nltk_data]    |   Unzipping corpora/webtext.zip.\n",
            "[nltk_data]    | Downloading package wmt15_eval to /root/nltk_data...\n",
            "[nltk_data]    |   Unzipping models/wmt15_eval.zip.\n",
            "[nltk_data]    | Downloading package word2vec_sample to\n",
            "[nltk_data]    |     /root/nltk_data...\n",
            "[nltk_data]    |   Unzipping models/word2vec_sample.zip.\n",
            "[nltk_data]    | Downloading package wordnet to /root/nltk_data...\n",
            "[nltk_data]    | Downloading package wordnet2021 to /root/nltk_data...\n",
            "[nltk_data]    | Downloading package wordnet2022 to /root/nltk_data...\n",
            "[nltk_data]    |   Unzipping corpora/wordnet2022.zip.\n",
            "[nltk_data]    | Downloading package wordnet31 to /root/nltk_data...\n",
            "[nltk_data]    | Downloading package wordnet_ic to /root/nltk_data...\n",
            "[nltk_data]    |   Unzipping corpora/wordnet_ic.zip.\n",
            "[nltk_data]    | Downloading package words to /root/nltk_data...\n",
            "[nltk_data]    |   Unzipping corpora/words.zip.\n",
            "[nltk_data]    | Downloading package ycoe to /root/nltk_data...\n",
            "[nltk_data]    |   Unzipping corpora/ycoe.zip.\n",
            "[nltk_data]    | \n",
            "[nltk_data]  Done downloading collection all\n"
          ]
        },
        {
          "output_type": "execute_result",
          "data": {
            "text/plain": [
              "True"
            ]
          },
          "metadata": {},
          "execution_count": 4
        }
      ],
      "source": [
        "# To download all the data associated with NLTK:\n",
        "# Download takes a while!\n",
        "nltk.download('all')\n",
        "#Locate where you nltk_data was set up from your download\n",
        "#Mine is in: C:\\Users\\clbustam\\AppData\\Roaming\\nltk_data"
      ]
    },
    {
      "cell_type": "markdown",
      "metadata": {
        "id": "_TrSQfAjE3y0"
      },
      "source": [
        "The Brown Corpus was the first million-word electronic corpus of English, created in 1961 at Brown University. This corpus contains text from 500 sources, and the sources have been categorized by genre, such as news, editorial, and so on. 1.1 gives an example of each genre (for a complete list, see http://icame.uib.no/brown/bcm-los.html)."
      ]
    },
    {
      "cell_type": "markdown",
      "metadata": {
        "id": "huFDr-jXE3y0"
      },
      "source": [
        "You can access a corpus as a list of words or a list of sentences (where each sentence is itself just a list of words). We can optionally specify particular categories or files to read."
      ]
    },
    {
      "cell_type": "code",
      "execution_count": 5,
      "metadata": {
        "colab": {
          "base_uri": "https://localhost:8080/"
        },
        "id": "b-nZxxGVE3y0",
        "outputId": "e7f94d15-16e5-4841-d59f-356ba8e09b43"
      },
      "outputs": [
        {
          "output_type": "execute_result",
          "data": {
            "text/plain": [
              "['The', 'Fulton', 'County', 'Grand', 'Jury', 'said', ...]"
            ]
          },
          "metadata": {},
          "execution_count": 5
        }
      ],
      "source": [
        "from nltk.corpus import brown\n",
        "brown.words(categories='news')"
      ]
    },
    {
      "cell_type": "code",
      "execution_count": 6,
      "metadata": {
        "colab": {
          "base_uri": "https://localhost:8080/"
        },
        "id": "N-eaGto2E3y0",
        "outputId": "748f58eb-7cc6-4af9-8b9c-a7f289ce6ccc"
      },
      "outputs": [
        {
          "output_type": "execute_result",
          "data": {
            "text/plain": [
              "['adventure',\n",
              " 'belles_lettres',\n",
              " 'editorial',\n",
              " 'fiction',\n",
              " 'government',\n",
              " 'hobbies',\n",
              " 'humor',\n",
              " 'learned',\n",
              " 'lore',\n",
              " 'mystery',\n",
              " 'news',\n",
              " 'religion',\n",
              " 'reviews',\n",
              " 'romance',\n",
              " 'science_fiction']"
            ]
          },
          "metadata": {},
          "execution_count": 6
        }
      ],
      "source": [
        "brown.categories()"
      ]
    },
    {
      "cell_type": "markdown",
      "metadata": {
        "id": "Dbko92I7E3y0"
      },
      "source": [
        "Each section of the Brown Corpus is defined as:  \n",
        "ID\tFile\tGenre\tDescription  \n",
        "A16\tca16\tnews\tChicago Tribune: Society Reportage  \n",
        "B02\tcb02\teditorial\tChristian Science Monitor: Editorials  \n",
        "C17\tcc17\treviews\tTime Magazine: Reviews  \n",
        "D12\tcd12\treligion\tUnderwood: Probing the Ethics of Realtors  \n",
        "E36\tce36\thobbies\tNorling: Renting a Car in Europe  \n",
        "F25\tcf25\tlore\tBoroff: Jewish Teenage Culture  \n",
        "G22\tcg22\tbelles_lettres\tReiner: Coping with Runaway Technology  \n",
        "H15\tch15\tgovernment\tUS Office of Civil and Defence Mobilization: The Family Fallout Shelter  \n",
        "J17\tcj19\tlearned\tMosteller: Probability with Statistical Applications  \n",
        "K04\tck04\tfiction\tW.E.B. Du Bois: Worlds of Color  \n",
        "L13\tcl13\tmystery\tHitchens: Footsteps in the Night  \n",
        "M01\tcm01\tscience_fiction\tHeinlein: Stranger in a Strange Land  \n",
        "N14\tcn15\tadventure\tField: Rattlesnake Ridge  \n",
        "P12\tcp12\tromance\tCallaghan: A Passion in Rome  \n",
        "R06\tcr06\thumor\tThurber: The Future, If Any, of Comedy  "
      ]
    },
    {
      "cell_type": "code",
      "execution_count": 7,
      "metadata": {
        "colab": {
          "base_uri": "https://localhost:8080/"
        },
        "id": "pQXT3Jp9E3y0",
        "outputId": "073f8e59-cc90-4902-a906-6d0898c2dd6f"
      },
      "outputs": [
        {
          "output_type": "execute_result",
          "data": {
            "text/plain": [
              "['Does', 'our', 'society', 'have', 'a', 'runaway', ',', ...]"
            ]
          },
          "metadata": {},
          "execution_count": 7
        }
      ],
      "source": [
        "brown.words(fileids=['cg22']) #A list or regexp specifying the fileids in this corpus"
      ]
    },
    {
      "cell_type": "code",
      "execution_count": 8,
      "metadata": {
        "colab": {
          "base_uri": "https://localhost:8080/"
        },
        "id": "a0TlsbdQE3y1",
        "outputId": "33a53c66-fc4a-4f65-9fec-828b1b0d45fb"
      },
      "outputs": [
        {
          "output_type": "stream",
          "name": "stdout",
          "text": [
            "*** Introductory Examples for the NLTK Book ***\n",
            "Loading text1, ..., text9 and sent1, ..., sent9\n",
            "Type the name of the text or sentence to view it.\n",
            "Type: 'texts()' or 'sents()' to list the materials.\n",
            "text1: Moby Dick by Herman Melville 1851\n",
            "text2: Sense and Sensibility by Jane Austen 1811\n",
            "text3: The Book of Genesis\n",
            "text4: Inaugural Address Corpus\n",
            "text5: Chat Corpus\n",
            "text6: Monty Python and the Holy Grail\n",
            "text7: Wall Street Journal\n",
            "text8: Personals Corpus\n",
            "text9: The Man Who Was Thursday by G . K . Chesterton 1908\n"
          ]
        }
      ],
      "source": [
        "from nltk.book import *"
      ]
    },
    {
      "cell_type": "code",
      "execution_count": 9,
      "metadata": {
        "colab": {
          "base_uri": "https://localhost:8080/"
        },
        "id": "VRhUb9lLE3y1",
        "outputId": "c4232474-fd10-4e80-d40b-68444b7b15e3"
      },
      "outputs": [
        {
          "output_type": "stream",
          "name": "stdout",
          "text": [
            "text1: Moby Dick by Herman Melville 1851\n",
            "text2: Sense and Sensibility by Jane Austen 1811\n",
            "text3: The Book of Genesis\n",
            "text4: Inaugural Address Corpus\n",
            "text5: Chat Corpus\n",
            "text6: Monty Python and the Holy Grail\n",
            "text7: Wall Street Journal\n",
            "text8: Personals Corpus\n",
            "text9: The Man Who Was Thursday by G . K . Chesterton 1908\n"
          ]
        }
      ],
      "source": [
        "texts()  # lists the texts included in nltk.book"
      ]
    },
    {
      "cell_type": "code",
      "execution_count": 10,
      "metadata": {
        "colab": {
          "base_uri": "https://localhost:8080/"
        },
        "id": "zykkSs9nE3y1",
        "outputId": "523ad6ed-d8aa-43af-9cec-8273a1848eac"
      },
      "outputs": [
        {
          "output_type": "stream",
          "name": "stdout",
          "text": [
            "sent1: Call me Ishmael .\n",
            "sent2: The family of Dashwood had long been settled in Sussex .\n",
            "sent3: In the beginning God created the heaven and the earth .\n",
            "sent4: Fellow - Citizens of the Senate and of the House of Representatives :\n",
            "sent5: I have a problem with people PMing me to lol JOIN\n",
            "sent6: SCENE 1 : [ wind ] [ clop clop clop ] KING ARTHUR : Whoa there !\n",
            "sent7: Pierre Vinken , 61 years old , will join the board as a nonexecutive director Nov. 29 .\n",
            "sent8: 25 SEXY MALE , seeks attrac older single lady , for discreet encounters .\n",
            "sent9: THE suburb of Saffron Park lay on the sunset side of London , as red and ragged as a cloud of sunset .\n"
          ]
        }
      ],
      "source": [
        "sents()"
      ]
    },
    {
      "cell_type": "code",
      "execution_count": 11,
      "metadata": {
        "scrolled": true,
        "colab": {
          "base_uri": "https://localhost:8080/"
        },
        "id": "L6BWSMhgE3y1",
        "outputId": "cd439378-b877-40fe-b9b8-345b459e5481"
      },
      "outputs": [
        {
          "output_type": "stream",
          "name": "stdout",
          "text": [
            "<Text: Moby Dick by Herman Melville 1851>\n"
          ]
        },
        {
          "output_type": "execute_result",
          "data": {
            "text/plain": [
              "260819"
            ]
          },
          "metadata": {},
          "execution_count": 11
        }
      ],
      "source": [
        "print(text1)\n",
        "len(text1) # length of the text in Moby Dick includes words and punctuation."
      ]
    },
    {
      "cell_type": "code",
      "execution_count": 12,
      "metadata": {
        "colab": {
          "base_uri": "https://localhost:8080/"
        },
        "id": "0cEtJmflE3y1",
        "outputId": "837445a5-4a83-44c3-bb0c-c0f5a45cb99f"
      },
      "outputs": [
        {
          "output_type": "stream",
          "name": "stdout",
          "text": [
            "<Text: Sense and Sensibility by Jane Austen 1811>\n"
          ]
        },
        {
          "output_type": "execute_result",
          "data": {
            "text/plain": [
              "141576"
            ]
          },
          "metadata": {},
          "execution_count": 12
        }
      ],
      "source": [
        "print(text2)\n",
        "len(text2) # length of text2: Sense and Sensibility by Jane Austen 1811"
      ]
    },
    {
      "cell_type": "code",
      "execution_count": 13,
      "metadata": {
        "colab": {
          "base_uri": "https://localhost:8080/"
        },
        "id": "hQE2qsXvE3y1",
        "outputId": "a371dbe0-58f7-410b-92be-8f35443d9a0d"
      },
      "outputs": [
        {
          "output_type": "execute_result",
          "data": {
            "text/plain": [
              "['companionableness',\n",
              " 'disinterestedness',\n",
              " 'disqualifications',\n",
              " 'incomprehensible']"
            ]
          },
          "metadata": {},
          "execution_count": 13
        }
      ],
      "source": [
        "#Find the longest words\n",
        "V = set(text2)\n",
        "long_words = [w for w in V if len(w) > 15]\n",
        "sorted(long_words)"
      ]
    },
    {
      "cell_type": "code",
      "execution_count": 14,
      "metadata": {
        "colab": {
          "base_uri": "https://localhost:8080/"
        },
        "id": "g9t40_45E3y1",
        "outputId": "798c4a8c-a8e6-4d01-82e0-e4d29c56e519"
      },
      "outputs": [
        {
          "output_type": "execute_result",
          "data": {
            "text/plain": [
              "[('more', 'is'), ('is', 'said'), ('said', 'than'), ('than', 'done')]"
            ]
          },
          "metadata": {},
          "execution_count": 14
        }
      ],
      "source": [
        "#Find words that appear next to each other known as word pairs\n",
        "list(bigrams(['more', 'is', 'said', 'than', 'done']))"
      ]
    },
    {
      "cell_type": "code",
      "execution_count": 15,
      "metadata": {
        "id": "zy43L7vIE3y1"
      },
      "outputs": [],
      "source": [
        "from nltk.corpus import gutenberg as gb"
      ]
    },
    {
      "cell_type": "code",
      "execution_count": 16,
      "metadata": {
        "colab": {
          "base_uri": "https://localhost:8080/"
        },
        "id": "NyrenCBFE3y1",
        "outputId": "5407126b-522f-46da-986b-b391128435d6"
      },
      "outputs": [
        {
          "output_type": "stream",
          "name": "stdout",
          "text": [
            "['austen-emma.txt', 'austen-persuasion.txt', 'austen-sense.txt', 'bible-kjv.txt', 'blake-poems.txt', 'bryant-stories.txt', 'burgess-busterbrown.txt', 'carroll-alice.txt', 'chesterton-ball.txt', 'chesterton-brown.txt', 'chesterton-thursday.txt', 'edgeworth-parents.txt', 'melville-moby_dick.txt', 'milton-paradise.txt', 'shakespeare-caesar.txt', 'shakespeare-hamlet.txt', 'shakespeare-macbeth.txt', 'whitman-leaves.txt']\n"
          ]
        }
      ],
      "source": [
        "titles=gb.fileids()\n",
        "print(titles)"
      ]
    },
    {
      "cell_type": "markdown",
      "metadata": {
        "id": "XILnS_aoE3y1"
      },
      "source": [
        "**FreqDist, CondFreqDist**  \n",
        "Describe the frequency (count) of each vocabulary item in the text."
      ]
    },
    {
      "cell_type": "code",
      "execution_count": 17,
      "metadata": {
        "colab": {
          "base_uri": "https://localhost:8080/"
        },
        "id": "mDl0priqE3y1",
        "outputId": "8bf1dfbf-ef4e-4a5c-9522-c21e37b8c8f2"
      },
      "outputs": [
        {
          "output_type": "stream",
          "name": "stdout",
          "text": [
            "<FreqDist with 10025 samples and 152901 outcomes>\n"
          ]
        }
      ],
      "source": [
        "#Check frequency distribtion of each word in the text file for the Inaugural Address\n",
        "fdist1=FreqDist(text4)\n",
        "print(fdist1)"
      ]
    },
    {
      "cell_type": "code",
      "execution_count": 18,
      "metadata": {
        "colab": {
          "base_uri": "https://localhost:8080/"
        },
        "id": "d5ZD6uV6E3y1",
        "outputId": "2c4f5bef-2eac-4949-a199-3729e7c1fa18"
      },
      "outputs": [
        {
          "output_type": "execute_result",
          "data": {
            "text/plain": [
              "[('the', 9555), (',', 7275), ('of', 7169), ('and', 5226), ('.', 5011)]"
            ]
          },
          "metadata": {},
          "execution_count": 18
        }
      ],
      "source": [
        "#Displays top 5 most common words / tokens\n",
        "fdist1.most_common(5)"
      ]
    },
    {
      "cell_type": "code",
      "execution_count": 19,
      "metadata": {
        "colab": {
          "base_uri": "https://localhost:8080/"
        },
        "id": "zyEvSyyeE3y1",
        "outputId": "e17d02e7-07f3-4f16-f004-14826496e380"
      },
      "outputs": [
        {
          "output_type": "execute_result",
          "data": {
            "text/plain": [
              "8"
            ]
          },
          "metadata": {},
          "execution_count": 19
        }
      ],
      "source": [
        "fdist1['Bible']"
      ]
    },
    {
      "cell_type": "markdown",
      "metadata": {
        "id": "81vYyAv1E3y1"
      },
      "source": [
        "**Cumulative Frequency Plot**  \n"
      ]
    },
    {
      "cell_type": "code",
      "execution_count": 20,
      "metadata": {
        "colab": {
          "base_uri": "https://localhost:8080/",
          "height": 501
        },
        "id": "-J0yOux5E3y1",
        "outputId": "e03a2d47-9dca-4e0e-c425-5a7c6508ca7d"
      },
      "outputs": [
        {
          "output_type": "display_data",
          "data": {
            "text/plain": [
              "<Figure size 640x480 with 1 Axes>"
            ],
            "image/png": "[encoded data removed]"
          },
          "metadata": {}
        },
        {
          "output_type": "execute_result",
          "data": {
            "text/plain": [
              "<Axes: xlabel='Samples', ylabel='Cumulative Counts'>"
            ]
          },
          "metadata": {},
          "execution_count": 20
        }
      ],
      "source": [
        "fdist1.plot(30, cumulative=True)"
      ]
    },
    {
      "cell_type": "markdown",
      "metadata": {
        "id": "T2-BQU3UE3y1"
      },
      "source": [
        "**Conditional Frequency Distribution:**    \n",
        "Combines 2 or more frequncy distributions.  "
      ]
    },
    {
      "cell_type": "code",
      "execution_count": 21,
      "metadata": {
        "colab": {
          "base_uri": "https://localhost:8080/"
        },
        "id": "vfbu7_mPE3y1",
        "outputId": "551ecb5f-fde6-4fde-c955-40850b772340"
      },
      "outputs": [
        {
          "output_type": "stream",
          "name": "stdout",
          "text": [
            "                           can  could    may  might   will  would should \n",
            "        austen-emma.txt    270    825    213    322    559    815    366 \n",
            "  austen-persuasion.txt    100    444     87    166    162    351    185 \n",
            "       austen-sense.txt    206    568    169    215    354    507    228 \n",
            "          bible-kjv.txt    213    165   1024    475   3807    443    768 \n",
            "        blake-poems.txt     20      3      5      2      3      3      6 \n",
            "     bryant-stories.txt     75    154     18     23    144    110     38 \n",
            "burgess-busterbrown.txt     23     56      3     17     19     46     13 \n",
            "      carroll-alice.txt     57     73     11     28     24     70     27 \n",
            "    chesterton-ball.txt    131    117     90     69    198    139     75 \n",
            "   chesterton-brown.txt    126    170     47     71    111    132     56 \n",
            "chesterton-thursday.txt    117    148     56     71    109    116     54 \n",
            "  edgeworth-parents.txt    340    420    160    127    517    503    271 \n",
            " melville-moby_dick.txt    220    215    230    183    379    421    181 \n",
            "    milton-paradise.txt    107     62    116     98    161     49     55 \n",
            " shakespeare-caesar.txt     16     18     35     12    129     40     38 \n",
            " shakespeare-hamlet.txt     33     26     56     28    131     60     52 \n",
            "shakespeare-macbeth.txt     21     15     30      5     62     42     41 \n",
            "     whitman-leaves.txt     88     49     85     26    261     85     42 \n"
          ]
        }
      ],
      "source": [
        "#Check the relative frequency of: can, could, may, might, will, would, should\n",
        "# in the Gutenburg Corpus\n",
        "modals=['can','could','may','might','will','would','should']\n",
        "cfd = nltk.ConditionalFreqDist(\n",
        "  (text, word)\n",
        "    for text in gb.fileids()\n",
        "    for word in gb.words(text))\n",
        "cfd.tabulate(conditions=titles, samples=modals)"
      ]
    },
    {
      "cell_type": "markdown",
      "metadata": {
        "id": "dZZv9kUCE3y1"
      },
      "source": [
        "Note below we reference the \"raw\" text of the book which is NOT split up into tokens. The raw() function gives us the contents of the file without any linguistic processing.  \n",
        "len(gutenberg.raw('blake-poems.txt')) provides how many letters occur in the text including spaces between words.     \n",
        "The sents() function divides the text up into its sentences, where each sentence is a list of words.    "
      ]
    },
    {
      "cell_type": "code",
      "execution_count": 22,
      "metadata": {
        "id": "2rmg_bAXE3y2"
      },
      "outputs": [],
      "source": [
        "import pandas as pd\n",
        "np_object=[]\n",
        "for fileid in gb.fileids():\n",
        "    num_chars = len(gb.raw(fileid))\n",
        "    num_words = len(gb.words(fileid))\n",
        "    num_sents = len(gb.sents(fileid))\n",
        "    num_vocab = len(set(w.lower() for w in gb.words(fileid)))\n",
        "    x= [fileid, round(num_chars/num_words), round(num_words/num_sents), round(num_words/num_vocab)]\n",
        "    np_object.append(x)\n",
        "#PUT DATA in DataFrame and fancy up columns and row headings\n",
        "df= pd.DataFrame(np_object, columns=['Title', '#chars/#words', '#words/#sents', '#words/#vocab'])"
      ]
    },
    {
      "cell_type": "code",
      "execution_count": 23,
      "metadata": {
        "colab": {
          "base_uri": "https://localhost:8080/"
        },
        "id": "gLeTER7iE3y2",
        "outputId": "8c478c1d-f0a0-4c0c-ac84-77c88a4a7364"
      },
      "outputs": [
        {
          "output_type": "stream",
          "name": "stdout",
          "text": [
            "                      Title  #chars/#words  #words/#sents  #words/#vocab\n",
            "0           austen-emma.txt              5             25             26\n",
            "1     austen-persuasion.txt              5             26             17\n",
            "2          austen-sense.txt              5             28             22\n",
            "3             bible-kjv.txt              4             34             79\n",
            "4           blake-poems.txt              5             19              5\n",
            "5        bryant-stories.txt              4             19             14\n",
            "6   burgess-busterbrown.txt              4             18             12\n",
            "7         carroll-alice.txt              4             20             13\n",
            "8       chesterton-ball.txt              5             20             12\n",
            "9      chesterton-brown.txt              5             23             11\n",
            "10  chesterton-thursday.txt              5             18             11\n",
            "11    edgeworth-parents.txt              4             21             25\n",
            "12   melville-moby_dick.txt              5             26             15\n",
            "13      milton-paradise.txt              5             52             11\n",
            "14   shakespeare-caesar.txt              4             12              9\n",
            "15   shakespeare-hamlet.txt              4             12              8\n",
            "16  shakespeare-macbeth.txt              4             12              7\n",
            "17       whitman-leaves.txt              5             36             12\n"
          ]
        }
      ],
      "source": [
        "print(df)"
      ]
    },
    {
      "cell_type": "markdown",
      "metadata": {
        "id": "3xP4I96HE3y2"
      },
      "source": [
        "A concordance view shows us every occurrence of a given word along with some context.  \n",
        "Note: The 1st time you use a concordance on a particular text, it takes a few extra seconds to build an index so that subsequent searches are fast.  \n",
        "Use:  \n",
        "**.concordance**  "
      ]
    },
    {
      "cell_type": "code",
      "execution_count": 24,
      "metadata": {
        "colab": {
          "base_uri": "https://localhost:8080/"
        },
        "id": "FjUqsQ8nE3y2",
        "outputId": "98f7874e-60bc-4020-9428-e108b43bc873"
      },
      "outputs": [
        {
          "output_type": "stream",
          "name": "stdout",
          "text": [
            "Displaying 19 of 19 matches:\n",
            "azed , and wondered what monstrous cannibal and savage could ever have gone a \n",
            "e holy Sabbath , engaged in such a cannibal business as selling the heads of d\n",
            "t was extinguished , and this wild cannibal , tomahawk between his teeth , spr\n",
            " , I kill - e !\" again growled the cannibal , while his horrid flourishings of\n",
            "hat that infernal harpooneer was a cannibal ?\" \" I thought ye know ' d it ;-- \n",
            "the whole a clean , comely looking cannibal . What ' s all this fuss I have be\n",
            "of him . Better sleep with a sober cannibal than a drunken Christian . \" Landl\n",
            "ge house in the broad day , with a cannibal and a tomahawk ! \" Queequeg !-- in\n",
            "h sadly vitiated , I fear , by the cannibal propensity he nourished in his unt\n",
            "tain , \" I ' ll kill - e YOU , you cannibal , if you try any more of your tric\n",
            " . She was a thing of trophies . A cannibal of a craft , tricking herself fort\n",
            " had not suspected my friend was a cannibal , and furthermore announcing that \n",
            "that sight take a tooth out of the cannibal ' s jaw ? Cannibals ? who is not a\n",
            "' s jaw ? Cannibals ? who is not a cannibal ? I tell you it will be more toler\n",
            "to kindle a fire in this shivering cannibal ? Ginger !-- what the devil is gin\n",
            "the Zodiac himself . What says the Cannibal ? As I live he ' s comparing notes\n",
            " they had been lost by some little cannibal urchins , the priest ' s children \n",
            "tiered sharks , and thy kidnapping cannibal ways . Let faith oust fact ; let f\n",
            "nd his mother tells him of me , of cannibal old me ; how I am abroad upon the \n"
          ]
        }
      ],
      "source": [
        "#text1: Moby Dick by Herman Melville 1851\n",
        "text1.concordance(\"cannibal\")"
      ]
    },
    {
      "cell_type": "code",
      "execution_count": 25,
      "metadata": {
        "colab": {
          "base_uri": "https://localhost:8080/"
        },
        "id": "gt9nW78mE3y2",
        "outputId": "c5eaafeb-6d73-48d1-8272-f0cc0b38265c"
      },
      "outputs": [
        {
          "output_type": "stream",
          "name": "stdout",
          "text": [
            "Displaying 25 of 38 matches:\n",
            "ay when they were created . And Adam lived an hundred and thirty years , and be\n",
            "ughters : And all the days that Adam lived were nine hundred and thirty yea and\n",
            "nd thirty yea and he died . And Seth lived an hundred and five years , and bega\n",
            "ve years , and begat Enos : And Seth lived after he begat Enos eight hundred an\n",
            "welve years : and he died . And Enos lived ninety years , and begat Cainan : An\n",
            " years , and begat Cainan : And Enos lived after he begat Cainan eight hundred \n",
            "ive years : and he died . And Cainan lived seventy years and begat Mahalaleel :\n",
            "rs and begat Mahalaleel : And Cainan lived after he begat Mahalaleel eight hund\n",
            "years : and he died . And Mahalaleel lived sixty and five years , and begat Jar\n",
            "s , and begat Jared : And Mahalaleel lived after he begat Jared eight hundred a\n",
            "and five yea and he died . And Jared lived an hundred sixty and two years , and\n",
            "o years , and he begat Eno And Jared lived after he begat Enoch eight hundred y\n",
            " and two yea and he died . And Enoch lived sixty and five years , and begat Met\n",
            " ; for God took him . And Methuselah lived an hundred eighty and seven years , \n",
            " , and begat Lamech . And Methuselah lived after he begat Lamech seven hundred \n",
            "nd nine yea and he died . And Lamech lived an hundred eighty and two years , an\n",
            "ch the LORD hath cursed . And Lamech lived after he begat Noah five hundred nin\n",
            "naan shall be his servant . And Noah lived after the flood three hundred and fi\n",
            "xad two years after the flo And Shem lived after he begat Arphaxad five hundred\n",
            "at sons and daughters . And Arphaxad lived five and thirty years , and begat Sa\n",
            "ars , and begat Salah : And Arphaxad lived after he begat Salah four hundred an\n",
            "begat sons and daughters . And Salah lived thirty years , and begat Eber : And \n",
            "y years , and begat Eber : And Salah lived after he begat Eber four hundred and\n",
            " begat sons and daughters . And Eber lived four and thirty years , and begat Pe\n",
            "y years , and begat Peleg : And Eber lived after he begat Peleg four hundred an\n"
          ]
        }
      ],
      "source": [
        "#From the Book of Genesis\n",
        "# How long people lived\n",
        "text3.concordance(\"lived\")"
      ]
    },
    {
      "cell_type": "markdown",
      "metadata": {
        "id": "_bO-HUSyE3y2"
      },
      "source": [
        "Other words that appear in a similar range of context  \n",
        "Use:  \n",
        "**.similar**    "
      ]
    },
    {
      "cell_type": "code",
      "execution_count": 26,
      "metadata": {
        "colab": {
          "base_uri": "https://localhost:8080/"
        },
        "id": "ivw_hjPhE3y2",
        "outputId": "d004a4a6-eb5e-47da-87bc-e132d756f3b1"
      },
      "outputs": [
        {
          "output_type": "stream",
          "name": "stdout",
          "text": [
            "true contemptible christian abundant few part mean careful puzzled\n",
            "mystifying passing curious loving wise doleful gamesome singular\n",
            "delightfully perilous fearless\n"
          ]
        }
      ],
      "source": [
        "#text1: Moby Dick by Herman Melville 1851\n",
        "text1.similar(\"monstrous\")"
      ]
    },
    {
      "cell_type": "code",
      "execution_count": 27,
      "metadata": {
        "colab": {
          "base_uri": "https://localhost:8080/"
        },
        "id": "9NpahWHzE3zF",
        "outputId": "9d5fa654-5bbf-4506-936d-2aa5041be8b5"
      },
      "outputs": [
        {
          "output_type": "stream",
          "name": "stdout",
          "text": [
            "very so exceedingly heartily a as good great extremely remarkably\n",
            "sweet vast amazingly\n"
          ]
        }
      ],
      "source": [
        "#text2: Sense and Sensibility by Jane Austen 1811\n",
        "text2.similar(\"monstrous\")"
      ]
    },
    {
      "cell_type": "markdown",
      "metadata": {
        "id": "AxMl863XE3zF"
      },
      "source": [
        "Examines just the contexts that are shared by two or more words.  \n",
        " Use:  \n",
        "**.common_contexts**"
      ]
    },
    {
      "cell_type": "code",
      "execution_count": 28,
      "metadata": {
        "colab": {
          "base_uri": "https://localhost:8080/"
        },
        "id": "7oCO59g7E3zF",
        "outputId": "e7b9421e-e533-468a-9812-7f84ce69ddfa"
      },
      "outputs": [
        {
          "output_type": "stream",
          "name": "stdout",
          "text": [
            "am_glad a_pretty a_lucky is_pretty be_glad\n"
          ]
        }
      ],
      "source": [
        "text2.common_contexts([\"monstrous\", \"very\"])"
      ]
    },
    {
      "cell_type": "markdown",
      "metadata": {
        "id": "A5MA-DsmE3zF"
      },
      "source": [
        "Determines the location of a word in the text: how many words from the beginning it appears. This positional information can be displayed using a dispersion plot."
      ]
    },
    {
      "cell_type": "markdown",
      "metadata": {
        "id": "INnl4tNoE3zF"
      },
      "source": [
        "# Dispersion Plot:    \n",
        "Determines the location of a word in text. i.e, How many words from the beginning does it appear?  \n",
        "This positional information can be displayed in a dispersion plot.   \n",
        "Each stripe represents an instance of a word, and each row represents the entire text  .\n",
        "Notice there will be some interesting patterns of word usage over the last 220 years.  \n",
        "(in an artificial text constructed by joining the texts of the Inaugural Address Corpus end-to-end)."
      ]
    },
    {
      "cell_type": "code",
      "execution_count": 29,
      "metadata": {
        "colab": {
          "base_uri": "https://localhost:8080/",
          "height": 472
        },
        "id": "tPxEHRczE3zF",
        "outputId": "165a67dd-75a1-49a2-c2f0-fa6cc9b8aeda"
      },
      "outputs": [
        {
          "output_type": "display_data",
          "data": {
            "text/plain": [
              "<Figure size 640x480 with 1 Axes>"
            ],
            "image/png": "[encoded data removed]"
          },
          "metadata": {}
        }
      ],
      "source": [
        "#text4: Inaugural Address Corpus\n",
        "text4.dispersion_plot([\"citizens\", \"democracy\", \"freedom\", \"duties\",\"rights\", \"America\"])"
      ]
    },
    {
      "cell_type": "markdown",
      "metadata": {
        "id": "rdZMdgNAE3zF"
      },
      "source": [
        "Generate random text from corpus  \n",
        "Use:  \n",
        "**.generate**  "
      ]
    },
    {
      "cell_type": "code",
      "execution_count": 30,
      "metadata": {
        "colab": {
          "base_uri": "https://localhost:8080/",
          "height": 268
        },
        "id": "JYh1ZEp2E3zF",
        "outputId": "3ae96a2f-0230-4d9d-faca-8ec8d4cf71f7"
      },
      "outputs": [
        {
          "output_type": "stream",
          "name": "stderr",
          "text": [
            "Building ngram index...\n"
          ]
        },
        {
          "output_type": "stream",
          "name": "stdout",
          "text": [
            "objects , and especially the truth that democratic government has\n",
            "innate capacity to govern its affairs aright through the Province\n",
            "ceded , by any timid forebodings of evil were not to overtake them\n",
            "while I possess the property of the pecuniary estimates for the\n",
            "advancement of civilization . , religion and a reckless disregard of\n",
            "the Argonne , Omaha Beach , Salerno and halfway around the globe , and\n",
            "nothing is more important in the House and the special attention of\n",
            "the Government to interfere with the advice and equipment to free ones\n",
            "; to the public agents intrusted with\n"
          ]
        },
        {
          "output_type": "execute_result",
          "data": {
            "text/plain": [
              "'objects , and especially the truth that democratic government has\\ninnate capacity to govern its affairs aright through the Province\\nceded , by any timid forebodings of evil were not to overtake them\\nwhile I possess the property of the pecuniary estimates for the\\nadvancement of civilization . , religion and a reckless disregard of\\nthe Argonne , Omaha Beach , Salerno and halfway around the globe , and\\nnothing is more important in the House and the special attention of\\nthe Government to interfere with the advice and equipment to free ones\\n; to the public agents intrusted with'"
            ],
            "application/vnd.google.colaboratory.intrinsic+json": {
              "type": "string"
            }
          },
          "metadata": {},
          "execution_count": 30
        }
      ],
      "source": [
        "#text4: Inaugural Address Corpus\n",
        "text4.generate()"
      ]
    },
    {
      "cell_type": "markdown",
      "metadata": {
        "id": "rnwAywNiE3zF"
      },
      "source": [
        "# Tokenization in NLTK  \n",
        "Breaking down documents, sentences, phrases into parts of speech  \n",
        "1.Tokenize to sentences or words (nltk.word_tokenize or nltk.sent_tokenize)  \n",
        "2.Tag Data – Determine parts of speech  "
      ]
    },
    {
      "cell_type": "code",
      "execution_count": 31,
      "metadata": {
        "id": "1GcpDLVEE3zG"
      },
      "outputs": [],
      "source": [
        "text = \"Mr. Smith loves tacos. He has a Ph.D. in taco-ology.\""
      ]
    },
    {
      "cell_type": "code",
      "execution_count": 32,
      "metadata": {
        "colab": {
          "base_uri": "https://localhost:8080/"
        },
        "id": "Xg9CcchiE3zG",
        "outputId": "1e255dc4-f117-4d70-f163-1ed7aa1b6ed8"
      },
      "outputs": [
        {
          "output_type": "execute_result",
          "data": {
            "text/plain": [
              "['Mr.',\n",
              " 'Smith',\n",
              " 'loves',\n",
              " 'tacos',\n",
              " '.',\n",
              " 'He',\n",
              " 'has',\n",
              " 'a',\n",
              " 'Ph.D.',\n",
              " 'in',\n",
              " 'taco-ology',\n",
              " '.']"
            ]
          },
          "metadata": {},
          "execution_count": 32
        }
      ],
      "source": [
        "nltk.word_tokenize(text)"
      ]
    },
    {
      "cell_type": "code",
      "execution_count": 33,
      "metadata": {
        "colab": {
          "base_uri": "https://localhost:8080/"
        },
        "id": "geQ259p3E3zG",
        "outputId": "b9648e8e-2bef-4ceb-c22d-954d4f2e0f08"
      },
      "outputs": [
        {
          "output_type": "stream",
          "name": "stdout",
          "text": [
            "Sentence:\n",
            "Mr. Smith loves tacos.\n",
            "\n",
            "Sentence:\n",
            "He has a Ph.D. in taco-ology.\n",
            "\n"
          ]
        }
      ],
      "source": [
        "tokenized_sentences = nltk.sent_tokenize(text)\n",
        "for sent in tokenized_sentences:\n",
        "    print(\"Sentence:\")\n",
        "    print(sent)\n",
        "    print()"
      ]
    },
    {
      "cell_type": "code",
      "execution_count": 34,
      "metadata": {
        "colab": {
          "base_uri": "https://localhost:8080/"
        },
        "id": "LPGLyFhzE3zG",
        "outputId": "13d7b338-1807-43be-ee42-f3eacc843cbc"
      },
      "outputs": [
        {
          "output_type": "stream",
          "name": "stdout",
          "text": [
            "['Mr.', 'Smith', 'loves', 'tacos', '.', 'He', 'has', 'a', 'Ph.D.', 'in', 'taco-ology', '.']\n"
          ]
        }
      ],
      "source": [
        "# notice that 'Mr.' is one token but 'disco.' and 'tacos.' are two tokens.\n",
        "text2 = \"Mr. Smith loves tacos. He has a Ph.D. in taco-ology.\"\n",
        "tokens = nltk.word_tokenize(text2)\n",
        "print(tokens)"
      ]
    },
    {
      "cell_type": "markdown",
      "metadata": {
        "id": "obKZERp2E3zG"
      },
      "source": [
        "In the above taco-ology example NLTK recognizes that Mr. is not a sentence but a **single** token.\n",
        "Similarily, it does not break Ph.D. as sentences but treats it as a **single** token.    "
      ]
    },
    {
      "cell_type": "code",
      "execution_count": 35,
      "metadata": {
        "colab": {
          "base_uri": "https://localhost:8080/"
        },
        "id": "j8rWQQnqE3zG",
        "outputId": "e6801051-fbb6-4b35-9fc1-d7087a85f355"
      },
      "outputs": [
        {
          "output_type": "stream",
          "name": "stderr",
          "text": [
            "[nltk_data] Downloading package punkt to /root/nltk_data...\n",
            "[nltk_data]   Package punkt is already up-to-date!\n"
          ]
        },
        {
          "output_type": "execute_result",
          "data": {
            "text/plain": [
              "True"
            ]
          },
          "metadata": {},
          "execution_count": 35
        }
      ],
      "source": [
        "#Download just the 'punkt' data set.\n",
        "# 'punkt' is a pre-trained sentence tokenizer for English.\n",
        "nltk.download('punkt')"
      ]
    },
    {
      "cell_type": "code",
      "execution_count": 36,
      "metadata": {
        "id": "i_s6sAjuE3zG"
      },
      "outputs": [],
      "source": [
        "sent_detector = nltk.data.load('tokenizers/punkt/english.pickle')"
      ]
    },
    {
      "cell_type": "code",
      "execution_count": 37,
      "metadata": {
        "id": "_zGczZNQE3zG"
      },
      "outputs": [],
      "source": [
        "text = '''Punkt knows that the periods in Mr. Smith and Johann S. Bach do not mark sentence boundaries.  And sometimes sentences can start with non-capitalized words.  i is a good\n",
        "variable name. '''"
      ]
    },
    {
      "cell_type": "markdown",
      "metadata": {
        "id": "FywxsBNIE3zG"
      },
      "source": [
        "In the example above: Mr. Smith & Bach retain the whitespace from the original text including newlines in the output.    \n",
        "Punctuation following sentences is also included by default (from NLTK 3.0 onwards). It can be excluded with the realign_boundaries flag.    "
      ]
    },
    {
      "cell_type": "code",
      "execution_count": 38,
      "metadata": {
        "colab": {
          "base_uri": "https://localhost:8080/"
        },
        "id": "uP6pgKnnE3zG",
        "outputId": "7c60ca9a-5112-4c69-d57a-568944cdeb13"
      },
      "outputs": [
        {
          "output_type": "stream",
          "name": "stdout",
          "text": [
            "Punkt knows that the periods in Mr. Smith and Johann S. Bach do not mark sentence boundaries.\n",
            "-----\n",
            "And sometimes sentences can start with non-capitalized words.\n",
            "-----\n",
            "i is a good \n",
            "variable name.\n"
          ]
        }
      ],
      "source": [
        "print('\\n-----\\n'.join(sent_detector.tokenize(text.strip())))"
      ]
    },
    {
      "cell_type": "markdown",
      "metadata": {
        "id": "tIrzzwuIE3zG"
      },
      "source": [
        "# Tagging  \n",
        "A part-of-speech (POS) tagger processes a sequence of words and attaches a part of speech tag to each word."
      ]
    },
    {
      "cell_type": "code",
      "execution_count": 39,
      "metadata": {
        "colab": {
          "base_uri": "https://localhost:8080/"
        },
        "id": "pC9mc2soE3zG",
        "outputId": "eb58f388-2fbc-4a9c-872c-f81e1ff77dd8"
      },
      "outputs": [
        {
          "output_type": "execute_result",
          "data": {
            "text/plain": [
              "[('And', 'CC'),\n",
              " ('now', 'RB'),\n",
              " ('for', 'IN'),\n",
              " ('something', 'NN'),\n",
              " ('completely', 'RB'),\n",
              " ('different', 'JJ')]"
            ]
          },
          "metadata": {},
          "execution_count": 39
        }
      ],
      "source": [
        "text =  nltk.word_tokenize(\"And now for something completely different\")\n",
        "nltk.pos_tag(text)"
      ]
    },
    {
      "cell_type": "markdown",
      "metadata": {
        "id": "WzhMRuWFE3zG"
      },
      "source": [
        "In above example...  \n",
        "**Parts of Speech Tagging:**\n",
        "coordinating conjunction = cc (And)   \n",
        "adverbs = RB (examples: now and completely)  \n",
        "preposition = IN (example: for)  \n",
        "noun = NN (example: something)  \n",
        "adjective = jj (example: different)  \n",
        "Note: NLTK provides documentation for each tag which can be queried using the tag, e.g. nltk.help.upenn_tagset('RB'), or a regular expression, e.g. nltk.help.upenn_tagset('NN.*')"
      ]
    },
    {
      "cell_type": "code",
      "execution_count": 40,
      "metadata": {
        "colab": {
          "base_uri": "https://localhost:8080/"
        },
        "id": "WUnIuaoBE3zG",
        "outputId": "36a4f0c8-77b9-44a5-b232-5595776c2327"
      },
      "outputs": [
        {
          "output_type": "stream",
          "name": "stdout",
          "text": [
            "NN: noun, common, singular or mass\n",
            "    common-carrier cabbage knuckle-duster Casino afghan shed thermostat\n",
            "    investment slide humour falloff slick wind hyena override subhumanity\n",
            "    machinist ...\n",
            "NNP: noun, proper, singular\n",
            "    Motown Venneboerger Czestochwa Ranzer Conchita Trumplane Christos\n",
            "    Oceanside Escobar Kreisler Sawyer Cougar Yvette Ervin ODI Darryl CTCA\n",
            "    Shannon A.K.C. Meltex Liverpool ...\n",
            "NNPS: noun, proper, plural\n",
            "    Americans Americas Amharas Amityvilles Amusements Anarcho-Syndicalists\n",
            "    Andalusians Andes Andruses Angels Animals Anthony Antilles Antiques\n",
            "    Apache Apaches Apocrypha ...\n",
            "NNS: noun, common, plural\n",
            "    undergraduates scotches bric-a-brac products bodyguards facets coasts\n",
            "    divestitures storehouses designs clubs fragrances averages\n",
            "    subjectivists apprehensions muses factory-jobs ...\n"
          ]
        }
      ],
      "source": [
        "nltk.help.upenn_tagset('NN.*')"
      ]
    },
    {
      "cell_type": "markdown",
      "metadata": {
        "id": "SSy-jh-9E3zG"
      },
      "source": [
        "**Stop words in NLTK**  \n",
        "In old days we used to remove very frequent words without much sematic weight. We called those words \"stop word\".  \n",
        "NLTK has a default set of stop words which you could change."
      ]
    },
    {
      "cell_type": "code",
      "execution_count": 41,
      "metadata": {
        "colab": {
          "base_uri": "https://localhost:8080/"
        },
        "id": "Yi8DsyKRE3zG",
        "outputId": "8fee2744-bd02-4993-8c80-80bd1d5baf1d"
      },
      "outputs": [
        {
          "output_type": "stream",
          "name": "stdout",
          "text": [
            "{\"she's\", 'mightn', 'further', 'ain', \"you'd\", 'any', 'by', \"you're\", 'out', 'all', 'other', 'y', 'of', 've', 'couldn', 'which', 'they', \"mustn't\", \"didn't\", 'until', 'having', \"that'll\", 'again', 'what', 'each', 'm', \"isn't\", 'herself', 'his', 'don', 'only', 't', 'have', 'those', 'if', 'doesn', 'below', 'about', 's', 'wouldn', 'my', 'be', 'while', 'the', 'we', 'some', 'for', 'am', 'on', 'after', \"hasn't\", \"won't\", 'being', 'off', 'o', 'been', 'against', 'above', 'once', 'him', 'from', 'should', \"should've\", \"shouldn't\", 'our', 'who', 'it', 'there', 'where', 'not', 'but', 'hers', 'these', 'yours', 'an', \"don't\", 'mustn', 'here', 'very', 'ours', 'then', 'didn', 'down', 'too', \"you'll\", 'are', 'aren', \"haven't\", 'shouldn', 'does', 'yourself', 'won', 'ourselves', 'he', 'before', 'will', 'both', \"you've\", 'into', 'and', 'why', 'them', 'd', 'me', 'ma', 'wasn', 'its', \"couldn't\", 'hasn', 'doing', 'this', 'himself', 'do', 'over', 'did', 'she', 'myself', 'in', 'under', \"needn't\", 'few', 'to', 'can', 'just', 'hadn', 'll', 'than', 'more', 'haven', \"it's\", 'such', 'during', 'a', 'was', 'because', 'as', 'her', 'up', 'isn', 'same', 're', 'themselves', 'so', 'or', \"aren't\", \"doesn't\", 'i', \"mightn't\", 'shan', 'no', \"wouldn't\", 'their', 'now', 'had', \"shan't\", 'were', 'weren', 'is', 'own', 'your', 'how', 'with', \"wasn't\", 'between', 'that', \"hadn't\", 'through', 'needn', 'has', 'itself', 'nor', 'most', 'yourselves', 'you', 'theirs', 'at', 'whom', 'when', \"weren't\"}\n"
          ]
        }
      ],
      "source": [
        "# Note: \"set\" is fast\n",
        "english_stopwords = set(nltk.corpus.stopwords.words('english'))\n",
        "print(english_stopwords)"
      ]
    },
    {
      "cell_type": "code",
      "execution_count": 42,
      "metadata": {
        "scrolled": true,
        "colab": {
          "base_uri": "https://localhost:8080/"
        },
        "id": "6T1_g7_2E3zG",
        "outputId": "04473aab-2bb8-4296-a333-6e62f451af22"
      },
      "outputs": [
        {
          "output_type": "stream",
          "name": "stdout",
          "text": [
            "{'nuestros', 'hubiesen', 'lo', 'fuese', 'e', 'habríamos', 'durante', 'el', 'hubierais', 'nuestra', 'habíamos', 'hubieron', 'estuvisteis', 'tengas', 'sentido', 'esa', 'hasta', 'tuvierais', 'ha', 'una', 'habrías', 'nuestras', 'sí', 'estén', 'estada', 'suyo', 'tenemos', 'habría', 'estuvierais', 'algunos', 'ante', 'tuviste', 'como', 'estados', 'nada', 'te', 'seréis', 'mucho', 'míos', 'seremos', 'estábamos', 'ti', 'estuvieron', 'los', 'siente', 'ya', 'estabais', 'tendremos', 'tuyo', 'habrían', 'ellas', 'mías', 'estás', 'tendrá', 'esas', 'hubiera', 'esta', 'hayan', 'ellos', 'ella', 'seáis', 'habréis', 'su', 'fuisteis', 'tendríais', 'haya', 'estuviésemos', 'esto', 'mí', 'hubieran', 'hubiésemos', 'pero', 'muy', 'fuerais', 'otras', 'hubiéramos', 'estuviste', 'mi', 'para', 'está', 'había', 'este', 'del', 'eres', 'habidos', 'otra', 'con', 'tengáis', 'teníais', 'hubieras', 'estará', 'fuesen', 'tengamos', 'tendréis', 'tendríamos', 'él', 'de', 'fueron', 'fui', 'habremos', 'tienen', 'suya', 'era', 'sean', 'estuvimos', 'hube', 'hayamos', 'tú', 'tened', 'fue', 'estarías', 'estarían', 'habéis', 'sentidos', 'antes', 'sobre', 'tuviesen', 'contra', 'mía', 'esos', 'tuvimos', 'fuésemos', 'eso', 'me', 'un', 'tendrán', 'tenga', 'eras', 'tenías', 'habiendo', 'seas', 'son', 'estuvieran', 'estaba', 'sois', 'estuviera', 'habido', 'todos', 'habrá', 'algunas', 'sintiendo', 'estaban', 'estar', 'estuviéramos', 'están', 'tengo', 'tenido', 'tu', 'teníamos', 'has', 'quien', 'vuestra', 'hayas', 'estés', 'estamos', 'fuera', 'tuvieseis', 'mío', 'tuvieses', 'estadas', 'vuestro', 'estando', 'estemos', 'hubiste', 'otro', 'vosotras', 'tengan', 'nosotros', 'porque', 'tuviese', 'tendrían', 'habrás', 'tendría', 'o', 'fueseis', 'uno', 'seré', 'estaríamos', 'hubieseis', 'sería', 'serían', 'tuviésemos', 'estuvieseis', 'suyas', 'somos', 'hubimos', 'teniendo', 'estuviese', 'estarás', 'fuiste', 'algo', 'tuviera', 'seamos', 'tenéis', 'tuve', 'vuestras', 'soy', 'muchos', 'tiene', 'tendrías', 'eran', 'estaremos', 'sin', 'tanto', 'más', 'estaría', 'estuvieses', 'habrán', 'habías', 'mis', 'a', 'os', 'suyos', 'estuvieras', 'nuestro', 'fueses', 'otros', 'hubo', 'habidas', 'también', 'estoy', 'habían', 'tuviéramos', 'sentida', 'fueran', 'unos', 'habré', 'poco', 'habíais', 'qué', 'es', 'estarán', 'estos', 'será', 'tuvisteis', 'estuve', 'fuéramos', 'yo', 'le', 'al', 'donde', 'y', 'esté', 'seríamos', 'hemos', 'tenía', 'estuvo', 'estad', 'se', 'tuvieron', 'sus', 'estado', 'hubiese', 'estáis', 'estabas', 'les', 'serán', 'ese', 'estas', 'cuando', 'habida', 'éramos', 'tuya', 'tendré', 'vuestros', 'quienes', 'tus', 'tuyas', 'hayáis', 'vosotros', 'he', 'nos', 'ni', 'seríais', 'estuviesen', 'hay', 'sea', 'nosotras', 'las', 'fueras', 'en', 'que', 'tienes', 'habríais', 'por', 'tenidas', 'erais', 'todo', 'desde', 'entre', 'tenida', 'cual', 'hubisteis', 'serás', 'sentid', 'han', 'sentidas', 'tenidos', 'no', 'tuvieran', 'estaréis', 'serías', 'estaré', 'estaríais', 'la', 'tuyos', 'tenían', 'tendrás', 'hubieses', 'fuimos', 'tuvo', 'tuvieras', 'estéis'}\n"
          ]
        }
      ],
      "source": [
        "spanish_stopwords = set(nltk.corpus.stopwords.words('spanish'))\n",
        "print(spanish_stopwords)"
      ]
    },
    {
      "cell_type": "code",
      "execution_count": 43,
      "metadata": {
        "colab": {
          "base_uri": "https://localhost:8080/"
        },
        "id": "eeWa3pciE3zG",
        "outputId": "fea1b192-6e20-482f-e5e3-c9605f9b5a3f"
      },
      "outputs": [
        {
          "output_type": "stream",
          "name": "stdout",
          "text": [
            "['chicken', 'went', 'house', 'humiliate', 'man', '.']\n"
          ]
        }
      ],
      "source": [
        "# Here we remove stop words to get the gist of a sentence\n",
        "from nltk.tokenize import word_tokenize\n",
        "text = \"The chicken went to the house to humiliate the man.\"\n",
        "tokens = word_tokenize(text)\n",
        "content_tokens = [token for token in tokens if token.lower() not in english_stopwords]\n",
        "print(content_tokens)"
      ]
    },
    {
      "cell_type": "code",
      "execution_count": 44,
      "metadata": {
        "colab": {
          "base_uri": "https://localhost:8080/"
        },
        "id": "-MFc_jtGE3zG",
        "outputId": "82434674-0d2f-4463-d1ec-27d263458ff0"
      },
      "outputs": [
        {
          "output_type": "stream",
          "name": "stderr",
          "text": [
            "[nltk_data] Downloading package stopwords to /root/nltk_data...\n",
            "[nltk_data]   Package stopwords is already up-to-date!\n"
          ]
        }
      ],
      "source": [
        "#Alternatively\n",
        "from nltk.corpus import stopwords\n",
        "from nltk import download\n",
        "download('stopwords')  # Download stopwords list.\n",
        "\n",
        "# Remove stopwords.\n",
        "stop_words = stopwords.words('english')"
      ]
    },
    {
      "cell_type": "markdown",
      "metadata": {
        "id": "TexcD8OgE3zG"
      },
      "source": [
        "**Load your own Corpus**  \n",
        "-Tokenize words  "
      ]
    },
    {
      "cell_type": "markdown",
      "metadata": {
        "id": "htWzLR2iE3zH"
      },
      "source": [
        "To load a collection of text files   \n",
        "Use:    \n",
        "**PlaintextCorpusReader**"
      ]
    },
    {
      "cell_type": "code",
      "execution_count": 45,
      "metadata": {
        "colab": {
          "base_uri": "https://localhost:8080/"
        },
        "id": "FUqm_CuUE3zH",
        "outputId": "99642459-9688-464a-9a83-c7be0ed2baed"
      },
      "outputs": [
        {
          "output_type": "execute_result",
          "data": {
            "text/plain": [
              "<bound method CorpusReader.fileids of <PlaintextCorpusReader in '/content'>>"
            ]
          },
          "metadata": {},
          "execution_count": 45
        }
      ],
      "source": [
        "#Hp1.txt = Harry Potter and the Sorcerer's Stone\n",
        "# PlaintextCorpusReader is best for reading through many text files but\n",
        "# has been modified for a simpler use case.\n",
        "from nltk.corpus import PlaintextCorpusReader\n",
        "corpus_root = '.'\n",
        "wordlists = PlaintextCorpusReader(corpus_root, 'HP1.txt')  # replace 'HP1.txt' with ''*.txt'\n",
        "(wordlists.fileids)"
      ]
    }
  ],
  "metadata": {
    "kernelspec": {
      "display_name": "Python 3 (ipykernel)",
      "language": "python",
      "name": "python3"
    },
    "language_info": {
      "codemirror_mode": {
        "name": "ipython",
        "version": 3
      },
      "file_extension": ".py",
      "mimetype": "text/x-python",
      "name": "python",
      "nbconvert_exporter": "python",
      "pygments_lexer": "ipython3",
      "version": "3.10.0"
    },
    "colab": {
      "provenance": []
    }
  },
  "nbformat": 4,
  "nbformat_minor": 0
}
